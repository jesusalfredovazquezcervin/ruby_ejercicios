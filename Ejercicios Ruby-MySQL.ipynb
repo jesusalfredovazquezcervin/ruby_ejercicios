{
 "cells": [
  {
   "cell_type": "markdown",
   "id": "ae6a62b7",
   "metadata": {},
   "source": [
    "# Ejercicios Ruby - Emanuel Fernandez"
   ]
  },
  {
   "cell_type": "markdown",
   "id": "70cf17a0",
   "metadata": {},
   "source": [
    "## 1. Saltar Escaleras"
   ]
  },
  {
   "cell_type": "markdown",
   "id": "d55b68c0",
   "metadata": {},
   "source": [
    "Quieres calcular la energía mínima en Joules que le llevará completar un juego de *saltar escaleras*. Así es como se juega el juego:\n",
    "\n",
    "Comienzas desde el primer escalón de la escalera.\n",
    "\n",
    "* Cada peldaño de la escalera tiene un número escrito que representa el número de peldaños que puedes saltar desde ese punto.\n",
    "* Cada salto requiere k joules de energía, sin importar cuántos pasos estés saltando.\n",
    "* El juego termina cuando llegas al último escalón o lo saltas.\n",
    "\n",
    "Tu tarea es encontrar la energía mínima necesaria para llegar al último escalón o saltarlo, en una escalera de n escalones y un requerimiento de energía de k julios.\n",
    "\n",
    "Tenga en cuenta lo siguiente:\n",
    "\n",
    "* $1 <= n,$\n",
    "* $k<= 90$\n",
    "* $1<=saltos[i]<=100$\n",
    "* Los saltos de matriz indican el número de pasos que puede saltar de cada paso.\n",
    "\n",
    "**Ejemplo 1**\n",
    "* *Entrada 1 (n): 6*\n",
    "* *Entrada 2 (k): 4*\n",
    "* *Entrada 3 (saltos): 1, 2, 3, 4, 5, 6*\n",
    "* *Salida: 12*\n",
    "\n",
    "<div class=\"alert alert-block alert-info\">\n",
    "<b>Explicación:</b> Comenzando desde el primer paso, podemos saltar un paso e ir al segundo, gastando cuatro julios de energía mientras lo hacemos. A partir de ahí podemos saltar dos pasos más, gastando cuatro julios más de energía. Eso nos lleva al cuarto paso, desde el cual podemos saltar cuatro pasos más gastando cuatro julios más de energía. Ahora hemos saltado el último escalón de la escalera. Dado que también necesitamos tres pasos para hacerlo, hemos gastado 12 julios de energía.\n",
    "</div>\n",
    "\n",
    "**Ejemplo 2**\n",
    "* *Entrada 1 (n): 2*\n",
    "* *Entrada 2 (k): 4*\n",
    "* *Entrada 3 (saltos): 1, 1*\n",
    "* *Salida: 4*"
   ]
  },
  {
   "cell_type": "markdown",
   "id": "d7443c50",
   "metadata": {},
   "source": [
    "# Solucion ejercicio 1"
   ]
  },
  {
   "cell_type": "code",
   "execution_count": 121,
   "id": "73a25dc7",
   "metadata": {},
   "outputs": [
    {
     "name": "stdout",
     "output_type": "stream",
     "text": [
      "\n",
      "The minimum energy for a stairway of 6 steps[n], 4 jules[k] and 8 jumps[jumps] is: 12"
     ]
    }
   ],
   "source": [
    "def minEnergy(n, k, jumps)\n",
    "  # Variable que almacenará el resultado final\n",
    "  result = 0\n",
    "  return puts \"'n' must be a number larger than 1!\" if !(1<=n)\n",
    "  return puts \"'k' must be a number between 1 and 90!\" if !(k<=90)\n",
    "  return puts \"'jumps' must be a number between 1 and 100!\" if !((jumps>=1) && (jumps<=100))\n",
    "  \n",
    "#Solucion usando los saltos\n",
    "  \n",
    "#Creamos el arreglo de los saltos\n",
    "  jumps = [*1..jumps]\n",
    "  paso = 1\n",
    "  jumps.each{\n",
    "    |j|\n",
    "    result+=k if (j==paso) && (j<n)\n",
    "    paso = paso + j if j==paso\n",
    "  }\n",
    "  \n",
    "  \n",
    "  return result\n",
    "end\n",
    "\n",
    "\n",
    "#Probando el metodo\n",
    "n = 6\n",
    "k = 4\n",
    "jumps = 8\n",
    "print(\"\\nThe minimum energy for a stairway of #{n} steps[n], #{k} jules[k] and #{jumps} jumps[jumps] is: #{minEnergy(n,k,jumps)}\")\n"
   ]
  },
  {
   "cell_type": "markdown",
   "id": "251f6ba7",
   "metadata": {},
   "source": [
    "# 2. Teléfono correcto"
   ]
  },
  {
   "cell_type": "markdown",
   "id": "20361260",
   "metadata": {},
   "source": [
    "Usted trabaja para un centro de atención al cliente y se le ha pedido que ayude a actualizar el extenso directorio telefónico de la empresa.\n",
    "\n",
    "Para verificar qué números de teléfono siguen siendo válidos y cuáles necesitan actualizarse, debe escribir un programa corto que:\n",
    "\n",
    "* Comprueba si un número de teléfono (dado como cadena str) en la base de datos tiene el formato (XXX) XXX-XXXX.\n",
    "* Si el número está en el formato correcto, lo devuelve como una cadena continua de 10 dígitos (llamada convertNumber)\n",
    "* Si el número no está en el formato correcto, devuelve \"No\"\n",
    "\n",
    "Tenga en cuenta lo siguiente:\n",
    "\n",
    "* $1 <= |cadena| <= 100$\n",
    "\n",
    "**Ejemplo 1**\n",
    "* *Entrada: (123) 456-7890*\n",
    "* *Salida: 1234567890*\n",
    "\n",
    "<div class=\"alert alert-block alert-info\">\n",
    "<b>Explicación:</b> Dado que la entrada está en el formato correcto, su código la convertirá en una cadena continua de 10 dígitos. El resultado, por lo tanto, es $1234567890$.\n",
    "</div>\n",
    "\n",
    "\n",
    "\n",
    "**Ejemplo 2**\n",
    "* *Entrada: 0151-319723*\n",
    "* *Salida: No*\n",
    "\n",
    "<div class=\"alert alert-block alert-info\">\n",
    "<b>Explicación:</b> Dado que la entrada no está en el formato correcto, su código devolverá el número de salida.\n",
    "</div>\n",
    "\n",
    "\n"
   ]
  },
  {
   "cell_type": "markdown",
   "id": "5f395e4b",
   "metadata": {},
   "source": [
    "# Solución ejercicio 2"
   ]
  },
  {
   "cell_type": "code",
   "execution_count": 45,
   "id": "688109dd",
   "metadata": {},
   "outputs": [
    {
     "name": "stdout",
     "output_type": "stream",
     "text": [
      "No\n",
      "1234567890\n",
      "No\n",
      "4461327380\n",
      "The string legth must be between 1 and 100!\n",
      "\n"
     ]
    }
   ],
   "source": [
    "def convertNumber(str)\n",
    "  return puts \"The string legth must be between 1 and 100!\" if !(str.strip.length >=1 && str.strip.length <=100)\n",
    "  \n",
    "  return !!(str =~ /^\\([0-9]{3}\\) [0-9]{3}-[0-9]{4}$/) ? (str.delete(\"-\").delete(\" \").delete(\"(\").delete(\")\")  ):\"No\"\n",
    "end\n",
    "\n",
    "#Testing\n",
    "puts convertNumber(\"0151-319723\")\n",
    "puts convertNumber(\"(123) 456-7890\")\n",
    "puts convertNumber(\"(123)456-7890\")\n",
    "puts convertNumber(\"(446) 132-7380\")\n",
    "puts convertNumber(\"(446) 132-7380 Este es un texto demaisado largo Este es un texto demaisado largo Este es un texto demaisado largo Este es un texto demaisado largo Este es un texto demaisado largo Este es un texto demaisado largo Este es un texto demaisado largo Este es un texto demaisado largo Este es un texto demaisado largo\")"
   ]
  },
  {
   "cell_type": "markdown",
   "id": "baef48b5",
   "metadata": {},
   "source": [
    "# Ejercicios MySql"
   ]
  },
  {
   "cell_type": "markdown",
   "id": "a8ae3859",
   "metadata": {},
   "source": [
    "Se tienen las siguientes tablas.\n",
    "\n",
    "***Inquilino***\n",
    "- *string :pais,*\n",
    "- *string :rfc,*\n",
    "- *string :razon_social,*\n",
    "- *datetime :created_at,*\n",
    "- *datetime :update_at*\n",
    "\n",
    "***Entidad***\n",
    "- *string rfc,*\n",
    "- *string razon_social,*\n",
    "- *datetime :created_at,*\n",
    "- *datetime :update_at*\n",
    "\n",
    "***Documento***\n",
    "-  *integer: id,*\n",
    "-  *string :tipo_nombre*\n",
    "-  *string :vendedor_rfc,*\n",
    "-  *string :comprador_rfc,*\n",
    "-  *string :numero,*\n",
    "-  *datetime :fecha_emision*\n",
    "-  *decimal :cantidad,*\n",
    "-  *decimal :monto,*\n",
    "-  *string :estado_fiscal_codigo,*\n",
    "-  *datetime :created_at*\n",
    "-  *datetime :update_at*\n",
    "    \n",
    "***DocumentoTipo***\n",
    "-  *string :nombre, unique,*\n",
    "-  *datetime :created_at,*\n",
    "-  *datetime :update_at*\n",
    "\n",
    "Las tablas están relacionadas de la siguiente manera:\n",
    "El *inquilino* puede tener n documentos ya sea este como *vendedor (vendedor_rfc)* o como *comprador (comprador_rfc)* y la contraparte es un registro en Entidad.\n",
    "\n",
    "\n",
    "<div class=\"alert alert-block alert-info\">\n",
    "<b>Explicación: </b>El inquilino es rfc: ABC123456 y genera un documento como vendedor entonces el comprador va relacionado a un registro en Entidad.\n",
    "\n",
    "<b><i>Inquilino:</i></b>\n",
    "<ul>\n",
    "  <li>rfc: ABC123456</li>\n",
    "  <li>...</li>\n",
    "</ul>\n",
    "    \n",
    "<b><i>Entidad:</i></b>\n",
    "<ul>\n",
    "  <li>rfc: XYZ987654</li>\n",
    "  <li>...</li>\n",
    "</ul>\n",
    "    \n",
    "<b><i>Documento:</i></b>\n",
    "<ul>\n",
    "  <li>vendedor_rfc: ABC123456</li>\n",
    "  <li>comprador_rfc XYZ987654</li>\n",
    "  <li>...</li>\n",
    "</ul>\n",
    "<br>\n",
    "El documento es de 1 tipo (tipo_nombre) el cual puede ser:\n",
    "<ul>\n",
    "  <li>Ingreso</li>\n",
    "  <li>Egreso</li>\n",
    "</ul>\n",
    "<br>\n",
    "El cual está registrado en DocumentoTipo.\n",
    "\n",
    "<b><i>DocumentoTipo:</i></b>\n",
    "<ul>\n",
    "  <li>nombre: Ingreso</li>\n",
    "  <li>...</li>\n",
    "</ul>\n",
    "\n",
    "<b><i>Documento:</i></b>\n",
    "<ul>\n",
    "  <li>tipo_nombre: Ingreso</li>\n",
    "  <li>vendedor_rfc: ABC123456</li>\n",
    "  <li>comprador_rfc XYZ987654</li>\n",
    "      <li>...</li>\n",
    "</ul>\n",
    "\n",
    "</div>\n",
    "<div class=\"alert alert-block alert-warning\">\n",
    "<b>Nota:</b>Cuando el inquilino sea el vendedor el tipo de documento es Ingreso, cuando es comprador el tipo de documento es Egreso.\n",
    "</div>\n",
    "\n",
    "\n",
    "\n",
    "***Ejercicio:***\n",
    "Crear una query que regrese las facturas de egreso entre dos fechas de emisión:\n",
    "<div class=\"alert alert-block alert-success\">\n",
    "<table style=\"width:50%\">\n",
    "  <tr>\n",
    "    <th>id</th>\n",
    "    <th style=\"width:30%\">RFC vendedor</th> \n",
    "    <th style=\"width:30%\">monto </th>\n",
    "      <th>Fecha emision</th>\n",
    "  </tr>\n",
    "  <tr>\n",
    "    <td>1</td>\n",
    "    <td>ZAS5464877</td>\n",
    "    <td>4,879.00</td>\n",
    "      <td>01-01-21</td>\n",
    "  </tr>\n",
    "  <tr>\n",
    "    <td>2</td>\n",
    "    <td>GHTW562012</td>\n",
    "    <td>64,454.54</td>\n",
    "    <td>05-05-22</td>\n",
    "  </tr>\n",
    "</table>\n",
    "</div>\n",
    "\n",
    "***Ejercicio:***\n",
    "Crear una query la cual regrese la sumatoria de todos los documentos de ingreso agrupados por comprador, el nombre del comprador debe de estar en mayúsculas aun cuando en el registro no lo esté.\n",
    "<div class=\"alert alert-block alert-success\">\n",
    "<table style=\"width:50%\">\n",
    "  <tr>\n",
    "    <th>id</th>\n",
    "    <th style=\"width:30%\">Razon social comprador</th> \n",
    "    <th style=\"width:30%\">RFC </th>\n",
    "    <th>Suma</th>\n",
    "  </tr>\n",
    "  <tr>\n",
    "    <td>1</td>\n",
    "    <td>WALMART</td>\n",
    "    <td>WAL985412P45</td>\n",
    "      <td>541,1564.23</td>\n",
    "  </tr>\n",
    "  <tr>\n",
    "    <td>2</td>\n",
    "    <td>AMAZON</td>\n",
    "    <td>AWS666456G15</td>\n",
    "    <td>5,151.00</td>\n",
    "  </tr>\n",
    "</table>\n",
    "</div>\n",
    "\n",
    "\n",
    "\n",
    "\n"
   ]
  },
  {
   "cell_type": "markdown",
   "id": "41e75653",
   "metadata": {},
   "source": [
    "# Solución ejercicio 3"
   ]
  },
  {
   "cell_type": "markdown",
   "id": "5a2e5bc1",
   "metadata": {},
   "source": [
    "## Scripts creación tablas"
   ]
  },
  {
   "cell_type": "markdown",
   "id": "daa6ea73",
   "metadata": {},
   "source": [
    "**Tabla documento**"
   ]
  },
  {
   "cell_type": "raw",
   "id": "f9758612",
   "metadata": {},
   "source": [
    "CREATE TABLE `documento` (\n",
    "  `iddocumento` int NOT NULL AUTO_INCREMENT,\n",
    "  `tipo_nombre` varchar(45) DEFAULT NULL,\n",
    "  `vendedor_rfc` varchar(45) DEFAULT NULL,\n",
    "  `comprador_rfc` varchar(45) DEFAULT NULL,\n",
    "  `numero` varchar(45) DEFAULT NULL,\n",
    "  `fecha_emision` datetime DEFAULT NULL,\n",
    "  `cantidad` decimal(10,0) DEFAULT NULL,\n",
    "  `monto` decimal(10,0) DEFAULT NULL,\n",
    "  `estado_fiscal_codigo` varchar(45) DEFAULT NULL,\n",
    "  `created_at` datetime DEFAULT CURRENT_TIMESTAMP,\n",
    "  `updated_at` datetime DEFAULT CURRENT_TIMESTAMP,\n",
    "  PRIMARY KEY (`iddocumento`)\n",
    ") ENGINE=InnoDB AUTO_INCREMENT=5 DEFAULT CHARSET=utf8mb4 COLLATE=utf8mb4_0900_ai_ci"
   ]
  },
  {
   "cell_type": "markdown",
   "id": "fa98e1b4",
   "metadata": {},
   "source": [
    "**Tabla documento tipo**"
   ]
  },
  {
   "cell_type": "raw",
   "id": "f1ff6acc",
   "metadata": {},
   "source": [
    "CREATE TABLE `documentotipo` (\n",
    "  `iddocumentotipo` int NOT NULL AUTO_INCREMENT,\n",
    "  `nombre` varchar(45) DEFAULT NULL,\n",
    "  `created_at` datetime DEFAULT NULL,\n",
    "  `updated_at` datetime DEFAULT NULL,\n",
    "  PRIMARY KEY (`iddocumentotipo`),\n",
    "  UNIQUE KEY `monto_UNIQUE` (`nombre`)\n",
    ") ENGINE=InnoDB AUTO_INCREMENT=3 DEFAULT CHARSET=utf8mb4 COLLATE=utf8mb4_0900_ai_ci\n"
   ]
  },
  {
   "cell_type": "markdown",
   "id": "dfb37dc2",
   "metadata": {},
   "source": [
    "**Tabla entidad**"
   ]
  },
  {
   "cell_type": "raw",
   "id": "6fdcc99c",
   "metadata": {},
   "source": [
    "CREATE TABLE `entidad` (\n",
    "  `identidad` int NOT NULL AUTO_INCREMENT,\n",
    "  `rfc` varchar(45) DEFAULT NULL,\n",
    "  `razon_social` varchar(45) DEFAULT NULL,\n",
    "  `created_at` datetime DEFAULT CURRENT_TIMESTAMP,\n",
    "  `updated_at` datetime DEFAULT CURRENT_TIMESTAMP,\n",
    "  PRIMARY KEY (`identidad`)\n",
    ") ENGINE=InnoDB AUTO_INCREMENT=3 DEFAULT CHARSET=utf8mb4 COLLATE=utf8mb4_0900_ai_ci;\n"
   ]
  },
  {
   "cell_type": "markdown",
   "id": "8a202fde",
   "metadata": {},
   "source": [
    "**Tabla inquilino**"
   ]
  },
  {
   "cell_type": "raw",
   "id": "479fa673",
   "metadata": {},
   "source": [
    "CREATE TABLE `inquilino` (\n",
    "  `idinquilino` int NOT NULL AUTO_INCREMENT,\n",
    "  `pais` varchar(45) DEFAULT NULL,\n",
    "  `rfc` varchar(45) DEFAULT NULL,\n",
    "  `razon_social` varchar(45) DEFAULT NULL,\n",
    "  `created_at` datetime DEFAULT CURRENT_TIMESTAMP,\n",
    "  `updated_at` datetime DEFAULT CURRENT_TIMESTAMP,\n",
    "  PRIMARY KEY (`idinquilino`)\n",
    ") ENGINE=InnoDB AUTO_INCREMENT=3 DEFAULT CHARSET=utf8mb4 COLLATE=utf8mb4_0900_ai_ci"
   ]
  },
  {
   "cell_type": "markdown",
   "id": "c3bfc42e",
   "metadata": {},
   "source": [
    "## Queries"
   ]
  },
  {
   "cell_type": "markdown",
   "id": "e40d9dae",
   "metadata": {},
   "source": [
    "**Ejercicio 1**\n",
    "*Crear una query que regrese las facturas de egreso entre dos fechas de emisión:*"
   ]
  },
  {
   "cell_type": "raw",
   "id": "14f7f37e",
   "metadata": {},
   "source": [
    "select iddocumento as ID, vendedor_rfc as \"RFC Vendedor\", monto as 'Monto',  fecha_emision as \"Fecha Emision\", (select nombre from documentotipo where iddocumentotipo = tipo_nombre) as 'Tipo Doc'\n",
    "from documento\n",
    "where tipo_nombre = '1' and\n",
    "fecha_emision between \n",
    "STR_TO_DATE('01-10-2022 01:20:01' , '%d-%m-%Y %H:%i:%s') and STR_TO_DATE('01-12-2022 01:20:01' , '%d-%m-%Y %H:%i:%s');"
   ]
  },
  {
   "cell_type": "markdown",
   "id": "2fb3ac1b",
   "metadata": {},
   "source": [
    "**Ejercicio 2**\n",
    "*Crear una query la cual regrese la sumatoria de todos los documentos de ingreso agrupados por comprador, el nombre del comprador debe de estar en mayúsculas aun cuando en el registro no lo esté.*"
   ]
  },
  {
   "cell_type": "raw",
   "id": "787854a9",
   "metadata": {},
   "source": [
    "SET @row_number = 0;\n",
    "select  (@row_number:=@row_number + 1) AS ID, e.razon_social as 'Razon social comprador', e.rfc as 'RFC', dt.nombre as 'Tipo Doc', sum(d.monto) as 'Suma'\n",
    "from documento d inner join documentotipo dt on d.tipo_nombre = dt.iddocumentotipo inner join entidad e on e.rfc = d.comprador_rfc\n",
    "where dt.iddocumentotipo=1\n",
    "group by e.rfc, dt.nombre , e.razon_social\n",
    ";\n"
   ]
  }
 ],
 "metadata": {
  "kernelspec": {
   "display_name": "Ruby 3.0.3",
   "language": "ruby",
   "name": "ruby"
  },
  "language_info": {
   "file_extension": ".rb",
   "mimetype": "application/x-ruby",
   "name": "ruby",
   "version": "3.0.3"
  }
 },
 "nbformat": 4,
 "nbformat_minor": 5
}
